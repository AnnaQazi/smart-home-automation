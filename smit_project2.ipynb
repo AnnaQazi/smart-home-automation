{
 "cells": [
  {
   "cell_type": "markdown",
   "id": "c1996d4f-7589-4344-b74a-ae01a66a9fb0",
   "metadata": {},
   "source": [
    "#  SMART HOME AUTOMATION SYSTEM"
   ]
  },
  {
   "cell_type": "markdown",
   "id": "368d9733-e28d-411a-a23f-8fe8b3a1a755",
   "metadata": {},
   "source": [
    "# 1. Device Management"
   ]
  },
  {
   "cell_type": "code",
   "execution_count": 4,
   "id": "61ad5681-a566-4d4a-b2cf-bb3b01df443c",
   "metadata": {},
   "outputs": [
    {
     "name": "stdout",
     "output_type": "stream",
     "text": [
      "Smart Devices:  ['Lights', 'Fan', 'AC', 'Door lock', 'Thermostat']\n"
     ]
    },
    {
     "name": "stdin",
     "output_type": "stream",
     "text": [
      "Enter a new device to add:  Security camera\n"
     ]
    },
    {
     "name": "stdout",
     "output_type": "stream",
     "text": [
      "Updated Devices:  ['Lights', 'Fan', 'AC', 'Door lock', 'Thermostat', 'Security camera']\n"
     ]
    },
    {
     "name": "stdin",
     "output_type": "stream",
     "text": [
      "Enter a device to remove:  AC\n"
     ]
    },
    {
     "name": "stdout",
     "output_type": "stream",
     "text": [
      "Devices after removal  ['Lights', 'Fan', 'Door lock', 'Thermostat', 'Security camera']\n",
      "Sorted Devices alphabetically:  ['Door lock', 'Fan', 'Lights', 'Security camera', 'Thermostat']\n"
     ]
    }
   ],
   "source": [
    "# Task 1.1: Create and Manage List of Smart Devices\n",
    "\n",
    "# Initial list of Devices\n",
    "devices=[\"Lights\",\"Fan\",\"AC\",\"Door lock\",\"Thermostat\"]\n",
    "print(\"Smart Devices: \",devices)\n",
    "\n",
    "# Adding a new Device\n",
    "new_device = input(\"Enter a new device to add: \")\n",
    "devices.append(new_device.capitalize())\n",
    "print(\"Updated Devices: \",devices)\n",
    "\n",
    "# Removing an Existing Device \n",
    "remove_device = input(\"Enter a device to remove: \")\n",
    "devices.remove(remove_device)\n",
    "print(\"Devices after removal \",devices)\n",
    "\n",
    "# Sort the Devices Alphabetically\n",
    "devices.sort()\n",
    "print(\"Sorted Devices alphabetically: \",devices)"
   ]
  },
  {
   "cell_type": "code",
   "execution_count": 6,
   "id": "12e36c7b-c97c-40ce-b656-23ab5653b457",
   "metadata": {},
   "outputs": [
    {
     "name": "stdout",
     "output_type": "stream",
     "text": [
      "Lights:('Lights', 'ON', 60)\n",
      "Fan:('Fan', 'OFF', 40)\n",
      "Door lock:('Door lock', 'OFF', 5)\n",
      "Thermostat:('Thermostat', 'OFF', 100)\n",
      "Security camera:('Security camera', 'ON', 30)\n"
     ]
    }
   ],
   "source": [
    "# Task 1.2: Store Device Settings Using Tuples\n",
    "\n",
    "#Tuple format : Device Name ,Satatus,Power consumption in watts\n",
    "all_device_settings=[\n",
    "    ('Lights','ON',60),\n",
    "    ('Fan','OFF',40),\n",
    "    ('AC','ON',1500),\n",
    "    ('Door lock','OFF',5),\n",
    "    ('Thermostat','OFF',100),\n",
    "    ('Security camera','ON',30)\n",
    "]\n",
    "\n",
    "# Display Device settings if the device is present\n",
    "for setting in all_device_settings:\n",
    "    if setting[0] in devices:\n",
    "        \n",
    "        print(f\"{setting[0]}:{setting}\")"
   ]
  },
  {
   "cell_type": "markdown",
   "id": "69a9aa36-0986-439f-935c-4a0c03e692d8",
   "metadata": {},
   "source": [
    "# 2. Energy Consumption Tracker"
   ]
  },
  {
   "cell_type": "code",
   "execution_count": 9,
   "id": "3a3cc1b2-0dd5-424e-b13a-684f9db4ab52",
   "metadata": {},
   "outputs": [
    {
     "name": "stdout",
     "output_type": "stream",
     "text": [
      "Initial energy usage:  {'Lights': 5, 'AC': 120, 'Fan': 30}\n"
     ]
    },
    {
     "name": "stdin",
     "output_type": "stream",
     "text": [
      "Enter new device to add:  Thermostat\n",
      "Enter energy usage for Thermostat in kWh:  20\n",
      "Enter a device name to update:  AC\n",
      "Enter new usage for AC:  110\n",
      "Enter a device name to remove:  none\n"
     ]
    },
    {
     "name": "stdout",
     "output_type": "stream",
     "text": [
      "updated energy usage: {'Lights': 5, 'AC': 110, 'Fan': 30, 'Thermostat': 20}\n",
      "Total Energy Consumption: 165 KWH\n"
     ]
    }
   ],
   "source": [
    "# Task 2.1: Store device energy usage in a dictionary\n",
    "\n",
    "# Initial energy usage\n",
    "energy_usage={\n",
    "    'Lights': 5,\n",
    "    'AC': 120,\n",
    "    'Fan': 30\n",
    "}\n",
    "print(\"Initial energy usage: \",energy_usage)\n",
    "\n",
    "# Add new energy usage data\n",
    "new_device = input(\"Enter new device to add: \")\n",
    "\n",
    "new_usage = int(input(f\"Enter energy usage for {new_device} in kWh: \"))\n",
    "energy_usage[new_device] = new_usage\n",
    "\n",
    "# Update existing usage\n",
    "update_device = input(\"Enter a device name to update: \")\n",
    "\n",
    "updated_usage = int(input(f\"Enter new usage for {update_device}: \"))\n",
    "energy_usage[update_device] = updated_usage\n",
    "\n",
    "# Remove a device\n",
    "remove_device = input(\"Enter a device name to remove: \")\n",
    "energy_usage.pop(remove_device,None)\n",
    "\n",
    "print(f\"updated energy usage: {energy_usage}\")\n",
    "\n",
    "# Display total energy consumption\n",
    "total = sum(energy_usage.values())\n",
    "\n",
    "print(\"Total Energy Consumption:\", total, \"KWH\")"
   ]
  },
  {
   "cell_type": "code",
   "execution_count": 11,
   "id": "17c9829b-8dc3-44e8-868d-701cda147e6a",
   "metadata": {},
   "outputs": [
    {
     "name": "stdout",
     "output_type": "stream",
     "text": [
      "Power-Saving Modes: {'Night Mode', 'Eco Mode'}\n"
     ]
    },
    {
     "name": "stdin",
     "output_type": "stream",
     "text": [
      "Enter new power-saving mode to add:  away Mode\n"
     ]
    },
    {
     "name": "stdout",
     "output_type": "stream",
     "text": [
      "New mode added:  away Mode\n"
     ]
    },
    {
     "name": "stdin",
     "output_type": "stream",
     "text": [
      "Enter a mode to check:  Eco Mode\n"
     ]
    },
    {
     "name": "stdout",
     "output_type": "stream",
     "text": [
      "'Eco Mode' is available.\n",
      "Updated Modes:  {'away Mode', 'Night Mode', 'Eco Mode'}\n"
     ]
    }
   ],
   "source": [
    "# Task 2.2: Identifying unique power saving modes using sets\n",
    "\n",
    "# Initial set\n",
    "power_modes = {\"Eco Mode\", \"Night Mode\"}\n",
    "print(\"Power-Saving Modes:\", power_modes)\n",
    "\n",
    "# Add a new mode\n",
    "new_mode = input(\"Enter new power-saving mode to add: \")\n",
    "power_modes.add(new_mode)\n",
    "print(\"New mode added: \",new_mode)\n",
    "# Check if a mode exists\n",
    "check_mode = input(\"Enter a mode to check: \")\n",
    "if check_mode in power_modes:\n",
    "    print(f\"'{check_mode}' is available.\")\n",
    "else:\n",
    "    print(f\"'{check_mode}' is not in the list.\")\n",
    "\n",
    "# View all modes\n",
    "print(\"Updated Modes: \", power_modes)"
   ]
  },
  {
   "cell_type": "markdown",
   "id": "1772d728-f657-4d42-bb8b-286cd08645c4",
   "metadata": {},
   "source": [
    "# 3. Functions For Smart Home Automation Task"
   ]
  },
  {
   "cell_type": "code",
   "execution_count": null,
   "id": "1a046a19-4fe0-40c5-bf89-1ffe9e4c0bfc",
   "metadata": {},
   "outputs": [],
   "source": [
    "# Task 3.1: Create a function to calculate monthly energy cost\n",
    "\n",
    "total_energy_usage = float(input(\"Enter total energy usage in KWH\"))\n",
    "unit_price = float(input(\"\\nEnter cost per kWh in PKR: \"))\n",
    "\n",
    "monthly_energy_cost = total_energy_usage * unit_price\n",
    "print(\"Monthly Energy Cost:\", monthly_energy_cost, \"PKR\")\n",
    "\n"
   ]
  },
  {
   "cell_type": "code",
   "execution_count": null,
   "id": "f32c79d3-f7ed-44d1-8508-0278bb29d6b1",
   "metadata": {},
   "outputs": [],
   "source": [
    "# Task 3.2: Finding common devices in two homes\n",
    "\n",
    "home1 = input(\"Enter comma-separated devices for Home 1: \").split(',')\n",
    "home2 = input(\"Enter comma-separated devices for Home 2: \").split(',')\n",
    "\n",
    "home1_set = set(home1)\n",
    "home2_set = set(home2)\n",
    "\n",
    "common_devices = home1_set.intersection(home2_set)\n",
    "print(\"\\nCommon Devices:\", common_devices)\n"
   ]
  },
  {
   "cell_type": "markdown",
   "id": "1c328dbe-d43f-4fe9-b824-6a0530b3bcde",
   "metadata": {},
   "source": [
    "# 4. Automation Features"
   ]
  },
  {
   "cell_type": "code",
   "execution_count": 16,
   "id": "2e6511fe-7af1-4419-a1d7-6641a60ca293",
   "metadata": {},
   "outputs": [
    {
     "name": "stdin",
     "output_type": "stream",
     "text": [
      "enter a device  Lights\n",
      "enter time  10:00 pm\n",
      "enter action OFF\n"
     ]
    },
    {
     "name": "stdout",
     "output_type": "stream",
     "text": [
      "Lights will be turn OFF at 10:00 pm\n"
     ]
    }
   ],
   "source": [
    "# Task 4.1: Create an Automation Rule Using Function\n",
    "\n",
    "device = input(\"enter a device \")\n",
    "time = input(\"enter time \")\n",
    "action = input(\"enter action\")\n",
    "print(device, \"will be turn\", action, \"at\", time)\n"
   ]
  },
  {
   "cell_type": "code",
   "execution_count": 18,
   "id": "38282352-23a1-4ccf-b9b5-7d30661e9b7d",
   "metadata": {},
   "outputs": [
    {
     "name": "stdout",
     "output_type": "stream",
     "text": [
      "Updated list of active devices: ['fan', 'lights']\n"
     ]
    }
   ],
   "source": [
    "# Task 4.2: Function to Optimize Power Consumption\n",
    "\n",
    "devices_list = [(\"fan\", 40), (\"lights\", 60), (\"Heater\", 2000), (\"AC\" , 1500)]\n",
    "active_devices = [device for device, power in devices_list if power <= 1000]\n",
    "print(\"Updated list of active devices:\", active_devices)\n"
   ]
  },
  {
   "cell_type": "code",
   "execution_count": null,
   "id": "ef81b232-acae-46f9-a598-a2efd6af37bf",
   "metadata": {},
   "outputs": [],
   "source": []
  }
 ],
 "metadata": {
  "kernelspec": {
   "display_name": "Python 3 (ipykernel)",
   "language": "python",
   "name": "python3"
  },
  "language_info": {
   "codemirror_mode": {
    "name": "ipython",
    "version": 3
   },
   "file_extension": ".py",
   "mimetype": "text/x-python",
   "name": "python",
   "nbconvert_exporter": "python",
   "pygments_lexer": "ipython3",
   "version": "3.12.4"
  }
 },
 "nbformat": 4,
 "nbformat_minor": 5
}
