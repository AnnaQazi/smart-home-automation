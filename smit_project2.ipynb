{
 "cells": [
  {
   "cell_type": "markdown",
   "id": "c1996d4f-7589-4344-b74a-ae01a66a9fb0",
   "metadata": {},
   "source": [
    "#  SMART HOME AUTOMATION SYSTEM"
   ]
  },
  {
   "cell_type": "markdown",
   "id": "368d9733-e28d-411a-a23f-8fe8b3a1a755",
   "metadata": {},
   "source": [
    "# 1. Device Management"
   ]
  },
  {
   "cell_type": "code",
   "execution_count": 4,
   "id": "61ad5681-a566-4d4a-b2cf-bb3b01df443c",
   "metadata": {},
   "outputs": [
    {
     "name": "stdout",
     "output_type": "stream",
     "text": [
      "Smart Devices:  ['Lights', 'Fan', 'AC', 'Door lock', 'Thermostat']\n"
     ]
    },
    {
     "name": "stdin",
     "output_type": "stream",
     "text": [
      "Enter a new device to add:  Security camera\n"
     ]
    },
    {
     "name": "stdout",
     "output_type": "stream",
     "text": [
      "Updated Devices:  ['Lights', 'Fan', 'AC', 'Door lock', 'Thermostat', 'Security camera']\n"
     ]
    },
    {
     "name": "stdin",
     "output_type": "stream",
     "text": [
      "Enter a device to remove:  AC\n"
     ]
    },
    {
     "name": "stdout",
     "output_type": "stream",
     "text": [
      "Devices after removal  ['Lights', 'Fan', 'Door lock', 'Thermostat', 'Security camera']\n",
      "Sorted Devices alphabetically:  ['Door lock', 'Fan', 'Lights', 'Security camera', 'Thermostat']\n"
     ]
    }
   ],
   "source": [
    "# Task 1.1: Create and Manage List of Smart Devices\n",
    "\n",
    "# Initial list of Devices\n",
    "devices=[\"Lights\",\"Fan\",\"AC\",\"Door lock\",\"Thermostat\"]\n",
    "print(\"Smart Devices: \",devices)\n",
    "\n",
    "# Adding a new Device\n",
    "new_device = input(\"Enter a new device to add: \")\n",
    "devices.append(new_device.capitalize())\n",
    "print(\"Updated Devices: \",devices)\n",
    "\n",
    "# Removing an Existing Device \n",
    "remove_device = input(\"Enter a device to remove: \")\n",
    "devices.remove(remove_device)\n",
    "print(\"Devices after removal \",devices)\n",
    "\n",
    "# Sort the Devices Alphabetically\n",
    "devices.sort()\n",
    "print(\"Sorted Devices alphabetically: \",devices)"
   ]
  },
  {
   "cell_type": "code",
   "execution_count": 6,
   "id": "12e36c7b-c97c-40ce-b656-23ab5653b457",
   "metadata": {},
   "outputs": [
    {
     "name": "stdout",
     "output_type": "stream",
     "text": [
      "Lights:('Lights', 'ON', 60)\n",
      "Fan:('Fan', 'OFF', 40)\n",
      "Door lock:('Door lock', 'OFF', 5)\n",
      "Thermostat:('Thermostat', 'OFF', 100)\n",
      "Security camera:('Security camera', 'ON', 30)\n"
     ]
    }
   ],
   "source": [
    "# Task 1.2: Store Device Settings Using Tuples\n",
    "\n",
    "#Tuple format : Device Name ,Satatus,Power consumption in watts\n",
    "all_device_settings=[\n",
    "    ('Lights','ON',60),\n",
    "    ('Fan','OFF',40),\n",
    "    ('AC','ON',1500),\n",
    "    ('Door lock','OFF',5),\n",
    "    ('Thermostat','OFF',100),\n",
    "    ('Security camera','ON',30)\n",
    "]\n",
    "\n",
    "# Display Device settings if the device is present\n",
    "for setting in all_device_settings:\n",
    "    if setting[0] in devices:\n",
    "        \n",
    "        print(f\"{setting[0]}:{setting}\")"
   ]
  },
  {
   "cell_type": "markdown",
   "id": "69a9aa36-0986-439f-935c-4a0c03e692d8",
   "metadata": {},
   "source": [
    "# 2. Energy Consumption Tracker"
   ]
  },
  {
   "cell_type": "code",
   "execution_count": 3,
   "id": "3a3cc1b2-0dd5-424e-b13a-684f9db4ab52",
   "metadata": {},
   "outputs": [
    {
     "name": "stdout",
     "output_type": "stream",
     "text": [
      "Initial energy usage:  {'Lights': 5, 'AC': 120, 'Fan': 30}\n"
     ]
    },
    {
     "name": "stdin",
     "output_type": "stream",
     "text": [
      "Enter new device to add:  Thermostat\n",
      "Enter energy usage for Thermostat in kWh:  20\n",
      "Enter a device name to update it's existing usage:  AC\n",
      "Enter new usage for AC:  110\n",
      "Enter a device name to remove:  none\n"
     ]
    },
    {
     "name": "stdout",
     "output_type": "stream",
     "text": [
      "updated energy usage: {'Lights': 5, 'AC': 110, 'Fan': 30, 'Thermostat': 20}\n",
      "Total Energy Consumption: 165 KWH\n"
     ]
    }
   ],
   "source": [
    "# Task 2.1: Store device energy usage in a dictionary\n",
    "\n",
    "# Initial energy usage\n",
    "energy_usage={\n",
    "    'Lights': 5,\n",
    "    'AC': 120,\n",
    "    'Fan': 30\n",
    "}\n",
    "print(\"Initial energy usage: \",energy_usage)\n",
    "\n",
    "# Add new energy usage data\n",
    "new_device = input(\"Enter new device to add: \")\n",
    "\n",
    "new_usage = int(input(f\"Enter energy usage for {new_device} in kWh: \"))\n",
    "energy_usage[new_device] = new_usage\n",
    "\n",
    "# Update existing usage\n",
    "update_device = input(\"Enter a device name to update it's existing usage: \")\n",
    "\n",
    "updated_usage = int(input(f\"Enter new usage for {update_device}: \"))\n",
    "energy_usage[update_device] = updated_usage\n",
    "\n",
    "# Remove a device\n",
    "remove_device = input(\"Enter a device name to remove: \")\n",
    "energy_usage.pop(remove_device,None)\n",
    "\n",
    "print(f\"updated energy usage: {energy_usage}\")\n",
    "\n",
    "# Display total energy consumption\n",
    "total = sum(energy_usage.values())\n",
    "\n",
    "print(\"Total Energy Consumption:\", total, \"KWH\")"
   ]
  },
  {
   "cell_type": "code",
   "execution_count": 11,
   "id": "17c9829b-8dc3-44e8-868d-701cda147e6a",
   "metadata": {},
   "outputs": [
    {
     "name": "stdout",
     "output_type": "stream",
     "text": [
      "Power-Saving Modes: {'Night Mode', 'Eco Mode'}\n"
     ]
    },
    {
     "name": "stdin",
     "output_type": "stream",
     "text": [
      "Enter new power-saving mode to add:  away Mode\n"
     ]
    },
    {
     "name": "stdout",
     "output_type": "stream",
     "text": [
      "New mode added:  away Mode\n"
     ]
    },
    {
     "name": "stdin",
     "output_type": "stream",
     "text": [
      "Enter a mode to check:  Eco Mode\n"
     ]
    },
    {
     "name": "stdout",
     "output_type": "stream",
     "text": [
      "'Eco Mode' is available.\n",
      "Updated Modes:  {'away Mode', 'Night Mode', 'Eco Mode'}\n"
     ]
    }
   ],
   "source": [
    "# Task 2.2: Identifying unique power saving modes using sets\n",
    "\n",
    "# Initial set\n",
    "power_modes = {\"Eco Mode\", \"Night Mode\"}\n",
    "print(\"Power-Saving Modes:\", power_modes)\n",
    "\n",
    "# Add a new mode\n",
    "new_mode = input(\"Enter new power-saving mode to add: \")\n",
    "power_modes.add(new_mode)\n",
    "print(\"New mode added: \",new_mode)\n",
    "# Check if a mode exists\n",
    "check_mode = input(\"Enter a mode to check: \")\n",
    "if check_mode in power_modes:\n",
    "    print(f\"'{check_mode}' is available.\")\n",
    "else:\n",
    "    print(f\"'{check_mode}' is not in the list.\")\n",
    "\n",
    "# View all modes\n",
    "print(\"Updated Modes: \", power_modes)"
   ]
  },
  {
   "cell_type": "markdown",
   "id": "1772d728-f657-4d42-bb8b-286cd08645c4",
   "metadata": {},
   "source": [
    "# 3. Functions For Smart Home Automation Task"
   ]
  },
  {
   "cell_type": "code",
   "execution_count": 19,
   "id": "1a046a19-4fe0-40c5-bf89-1ffe9e4c0bfc",
   "metadata": {},
   "outputs": [
    {
     "name": "stdin",
     "output_type": "stream",
     "text": [
      "Enter total energy usage in kwh:  165\n",
      "Enter rate per kwh:  0.12\n"
     ]
    },
    {
     "name": "stdout",
     "output_type": "stream",
     "text": [
      "Total monthly energy cost :$ 19.80\n"
     ]
    }
   ],
   "source": [
    "# Task 3.1: Create a function to calculate monthly energy cost\n",
    "\n",
    "def energy_cost (energy_usage,rate_per_kwh):\n",
    "# Calculate total cost\n",
    "    cost=energy_usage*rate_per_kwh\n",
    "# Return formated string with cost rounded to 2 decimals\n",
    "    return f\"Total monthly energy cost :$ {cost:.2f}\"\n",
    "\n",
    "# Allowing user input\n",
    "\n",
    "usage=float(input(\"Enter total energy usage in kwh: \"))\n",
    "rate=float(input(\"Enter rate per kwh: \"))\n",
    "\n",
    "# Call energy_cost function with user input and print the result\n",
    "print(energy_cost(usage,rate))\n",
    "\n"
   ]
  },
  {
   "cell_type": "code",
   "execution_count": 28,
   "id": "f32c79d3-f7ed-44d1-8508-0278bb29d6b1",
   "metadata": {},
   "outputs": [
    {
     "name": "stdin",
     "output_type": "stream",
     "text": [
      "Enter devices in Home 1  (comma separated):  Lights,Fan,AC\n",
      "Enter devices in Home 2  (comma separated):  Fan,Door Lock,Lights\n"
     ]
    },
    {
     "name": "stdout",
     "output_type": "stream",
     "text": [
      "comman_devices {'Lights', 'Fan'}\n"
     ]
    }
   ],
   "source": [
    "# Task 3.2: Finding common devices in two homes\n",
    "\n",
    "def comman_devices(home1_devices,home2_devices):\n",
    "# Use set intersection to find comman devices in both Homes\n",
    "    return set (home1_devices).intersection (home2_devices)\n",
    "\n",
    "# Allowing user input\n",
    "home1= input(\"Enter devices in Home 1  (comma separated): \").split(',')\n",
    "home2= input(\"Enter devices in Home 2  (comma separated): \").split(',')\n",
    "\n",
    "# Print comman devices in both Homes\n",
    "print(\"comman_devices\",comman_devices(home1,home2))\n",
    "\n"
   ]
  },
  {
   "cell_type": "markdown",
   "id": "1c328dbe-d43f-4fe9-b824-6a0530b3bcde",
   "metadata": {},
   "source": [
    "# 4. Automation Features"
   ]
  },
  {
   "cell_type": "code",
   "execution_count": 42,
   "id": "2e6511fe-7af1-4419-a1d7-6641a60ca293",
   "metadata": {},
   "outputs": [
    {
     "name": "stdin",
     "output_type": "stream",
     "text": [
      "Enter device name:  Lights\n",
      "Enter time:  10:00pm\n",
      "Enter action(ON/OFF) OFF\n"
     ]
    },
    {
     "name": "stdout",
     "output_type": "stream",
     "text": [
      "Automation rule: Lights will be turned OFF at 10:00pm.\n"
     ]
    }
   ],
   "source": [
    "# Task 4.1: Create an Automation Rule Using Function\n",
    "\n",
    "def set_automation_rule(devices,time,action):\n",
    "# Automation rule message\n",
    "    return f\"Automation rule: {devices} will be turned {action.upper()} at {time}.\"\n",
    "\n",
    "# Allowing user input\n",
    "device= input(\"Enter device name: \")\n",
    "time= input(\"Enter time: \")\n",
    "action= input(\"Enter action(ON/OFF)\")\n",
    "\n",
    "# Display automation rule\n",
    "print(set_automation_rule(device,time,action))\n"
   ]
  },
  {
   "cell_type": "code",
   "execution_count": 48,
   "id": "38282352-23a1-4ccf-b9b5-7d30661e9b7d",
   "metadata": {},
   "outputs": [
    {
     "name": "stdin",
     "output_type": "stream",
     "text": [
      "How many devices you want to check:  3\n",
      "Enter device name:  Fan\n",
      "Enter power usage of Fan in watts:  40\n",
      "Enter device name:  Ac\n",
      "Enter power usage of Ac in watts:  1500\n",
      "Enter device name:  Lights\n",
      "Enter power usage of Lights in watts:  60\n"
     ]
    },
    {
     "name": "stdout",
     "output_type": "stream",
     "text": [
      "Devices still active:  ['Fan', 'Lights']\n"
     ]
    }
   ],
   "source": [
    "# Task 4.2: Function to Optimize Power Consumption\n",
    "\n",
    "def optimize_power(devices):\n",
    "# Keep only devices that use 1000 watts or less\n",
    "    return [device for device,power in devices if power<=1000]\n",
    "\n",
    "# How many devices you want to check\n",
    "n= int(input(\"How many devices you want to check: \"))\n",
    "\n",
    "# device's emty list\n",
    "devices=[]\n",
    "\n",
    "# Loop to get details of each devices\n",
    "for i in range(n):\n",
    "    name= input(\"Enter device name: \")\n",
    "    power= int(input(f\"Enter power usage of {name} in watts: \"))\n",
    "    devices.append((name,power))\n",
    "\n",
    "# Show the list of devices that are still on\n",
    "print(\"Devices still active: \",optimize_power(devices))\n",
    "\n",
    "# devices_list = [(\"fan\", 40), (\"lights\", 60), (\"Heater\", 2000), (\"AC\" , 1500)]\n",
    "# active_devices = [device for device, power in devices_list if power <= 1000]\n",
    "# print(\"Updated list of active devices:\", active_devices)\n"
   ]
  },
  {
   "cell_type": "code",
   "execution_count": null,
   "id": "388a2976-85a5-4317-b78c-ee19d02c1199",
   "metadata": {},
   "outputs": [],
   "source": []
  }
 ],
 "metadata": {
  "kernelspec": {
   "display_name": "Python 3 (ipykernel)",
   "language": "python",
   "name": "python3"
  },
  "language_info": {
   "codemirror_mode": {
    "name": "ipython",
    "version": 3
   },
   "file_extension": ".py",
   "mimetype": "text/x-python",
   "name": "python",
   "nbconvert_exporter": "python",
   "pygments_lexer": "ipython3",
   "version": "3.12.4"
  }
 },
 "nbformat": 4,
 "nbformat_minor": 5
}
